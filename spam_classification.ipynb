{
 "cells": [
  {
   "cell_type": "markdown",
   "metadata": {},
   "source": [
    "#                                              PROJECT\n",
    " "
   ]
  },
  {
   "cell_type": "markdown",
   "metadata": {},
   "source": [
    "# spam classification"
   ]
  },
  {
   "cell_type": "code",
   "execution_count": 2,
   "metadata": {
    "collapsed": true
   },
   "outputs": [],
   "source": [
    "#importing the libraries\n",
    "import numpy as np\n",
    "import pandas as pd\n",
    "import matplotlib.pyplot as plt\n",
    "import seaborn as sns"
   ]
  },
  {
   "cell_type": "code",
   "execution_count": 3,
   "metadata": {
    "collapsed": false
   },
   "outputs": [
    {
     "data": {
      "text/html": [
       "<div>\n",
       "<table border=\"1\" class=\"dataframe\">\n",
       "  <thead>\n",
       "    <tr style=\"text-align: right;\">\n",
       "      <th></th>\n",
       "      <th>class</th>\n",
       "      <th>SMS</th>\n",
       "    </tr>\n",
       "  </thead>\n",
       "  <tbody>\n",
       "    <tr>\n",
       "      <th>0</th>\n",
       "      <td>ham</td>\n",
       "      <td>Go until jurong point, crazy.. Available only ...</td>\n",
       "    </tr>\n",
       "    <tr>\n",
       "      <th>1</th>\n",
       "      <td>ham</td>\n",
       "      <td>Ok lar... Joking wif u oni...</td>\n",
       "    </tr>\n",
       "    <tr>\n",
       "      <th>2</th>\n",
       "      <td>spam</td>\n",
       "      <td>Free entry in 2 a wkly comp to win FA Cup fina...</td>\n",
       "    </tr>\n",
       "    <tr>\n",
       "      <th>3</th>\n",
       "      <td>ham</td>\n",
       "      <td>U dun say so early hor... U c already then say...</td>\n",
       "    </tr>\n",
       "    <tr>\n",
       "      <th>4</th>\n",
       "      <td>ham</td>\n",
       "      <td>Nah I don't think he goes to usf, he lives aro...</td>\n",
       "    </tr>\n",
       "  </tbody>\n",
       "</table>\n",
       "</div>"
      ],
      "text/plain": [
       "  class                                                SMS\n",
       "0   ham  Go until jurong point, crazy.. Available only ...\n",
       "1   ham                      Ok lar... Joking wif u oni...\n",
       "2  spam  Free entry in 2 a wkly comp to win FA Cup fina...\n",
       "3   ham  U dun say so early hor... U c already then say...\n",
       "4   ham  Nah I don't think he goes to usf, he lives aro..."
      ]
     },
     "execution_count": 3,
     "metadata": {},
     "output_type": "execute_result"
    }
   ],
   "source": [
    "#extracting data from dataset\n",
    "data = pd.read_csv('spam.csv', encoding='latin-1')\n",
    "data.head()"
   ]
  },
  {
   "cell_type": "code",
   "execution_count": 4,
   "metadata": {
    "collapsed": false
   },
   "outputs": [
    {
     "data": {
      "text/plain": [
       "ham     4825\n",
       "spam     747\n",
       "Name: class, dtype: int64"
      ]
     },
     "execution_count": 4,
     "metadata": {},
     "output_type": "execute_result"
    }
   ],
   "source": [
    "data['class'].value_counts()"
   ]
  },
  {
   "cell_type": "markdown",
   "metadata": {},
   "source": [
    "# some visualizations"
   ]
  },
  {
   "cell_type": "code",
   "execution_count": 5,
   "metadata": {
    "collapsed": false
   },
   "outputs": [
    {
     "data": {
      "image/png": "[encoded data removed]",
      "text/plain": [
       "<Figure size 360x288 with 1 Axes>"
      ]
     },
     "metadata": {},
     "output_type": "display_data"
    }
   ],
   "source": [
    "data['length'] = data['SMS'].map(lambda x: len(x))\n",
    "data.hist(column='length',bins=50, figsize=(5,4))\n",
    "plt.show()"
   ]
  },
  {
   "cell_type": "code",
   "execution_count": 6,
   "metadata": {
    "collapsed": false
   },
   "outputs": [
    {
     "data": {
      "image/png": "[encoded data removed]",
      "text/plain": [
       "<Figure size 720x360 with 2 Axes>"
      ]
     },
     "metadata": {},
     "output_type": "display_data"
    }
   ],
   "source": [
    "data.hist(column='length', by='class', bins=100, figsize=(10,5))\n",
    "plt.show()"
   ]
  },
  {
   "cell_type": "code",
   "execution_count": 16,
   "metadata": {
    "collapsed": true
   },
   "outputs": [],
   "source": [
    "data = data.replace(['ham','spam'],[0, 1])"
   ]
  },
  {
   "cell_type": "code",
   "execution_count": 7,
   "metadata": {
    "collapsed": false
   },
   "outputs": [
    {
     "data": {
      "text/html": [
       "<div>\n",
       "<table border=\"1\" class=\"dataframe\">\n",
       "  <thead>\n",
       "    <tr style=\"text-align: right;\">\n",
       "      <th></th>\n",
       "      <th>class</th>\n",
       "      <th>SMS</th>\n",
       "      <th>length</th>\n",
       "    </tr>\n",
       "  </thead>\n",
       "  <tbody>\n",
       "    <tr>\n",
       "      <th>0</th>\n",
       "      <td>ham</td>\n",
       "      <td>Go until jurong point, crazy.. Available only ...</td>\n",
       "      <td>111</td>\n",
       "    </tr>\n",
       "    <tr>\n",
       "      <th>1</th>\n",
       "      <td>ham</td>\n",
       "      <td>Ok lar... Joking wif u oni...</td>\n",
       "      <td>29</td>\n",
       "    </tr>\n",
       "    <tr>\n",
       "      <th>2</th>\n",
       "      <td>spam</td>\n",
       "      <td>Free entry in 2 a wkly comp to win FA Cup fina...</td>\n",
       "      <td>155</td>\n",
       "    </tr>\n",
       "    <tr>\n",
       "      <th>3</th>\n",
       "      <td>ham</td>\n",
       "      <td>U dun say so early hor... U c already then say...</td>\n",
       "      <td>49</td>\n",
       "    </tr>\n",
       "    <tr>\n",
       "      <th>4</th>\n",
       "      <td>ham</td>\n",
       "      <td>Nah I don't think he goes to usf, he lives aro...</td>\n",
       "      <td>61</td>\n",
       "    </tr>\n",
       "  </tbody>\n",
       "</table>\n",
       "</div>"
      ],
      "text/plain": [
       "  class                                                SMS  length\n",
       "0   ham  Go until jurong point, crazy.. Available only ...     111\n",
       "1   ham                      Ok lar... Joking wif u oni...      29\n",
       "2  spam  Free entry in 2 a wkly comp to win FA Cup fina...     155\n",
       "3   ham  U dun say so early hor... U c already then say...      49\n",
       "4   ham  Nah I don't think he goes to usf, he lives aro...      61"
      ]
     },
     "execution_count": 7,
     "metadata": {},
     "output_type": "execute_result"
    }
   ],
   "source": [
    "data.head()"
   ]
  },
  {
   "cell_type": "markdown",
   "metadata": {},
   "source": [
    "# Feature extraction of test data using TF-IDF vectorizer."
   ]
  },
  {
   "cell_type": "code",
   "execution_count": 22,
   "metadata": {
    "collapsed": false
   },
   "outputs": [],
   "source": [
    "smstext = pd.DataFrame(data['SMS'])\n",
    "smsclass = pd.DataFrame(data['class'])"
   ]
  },
  {
   "cell_type": "code",
   "execution_count": 23,
   "metadata": {
    "collapsed": false
   },
   "outputs": [
    {
     "name": "stdout",
     "output_type": "stream",
     "text": [
      "Total words in data set:  15585\n"
     ]
    }
   ],
   "source": [
    "from collections import Counter\n",
    "\n",
    "total_counts = Counter()\n",
    "for i in range(len(smstext)):\n",
    "    for word in smstext.values[i][0].split(\" \"):\n",
    "        total_counts[word] += 1\n",
    "\n",
    "print(\"Total words in data set: \", len(total_counts))"
   ]
  },
  {
   "cell_type": "code",
   "execution_count": 24,
   "metadata": {
    "collapsed": false
   },
   "outputs": [
    {
     "name": "stdout",
     "output_type": "stream",
     "text": [
      "['to', 'you', 'I', 'a', 'the', 'and', 'in', 'is', 'i', 'u', 'for', '', 'my', 'of', 'your', 'me', 'on', 'have', '2', 'that', 'are', 'it', 'call', 'or', 'be', 'at', 'with', 'not', 'will', 'get', 'can', 'U', 'so', 'ur', \"I'm\", 'but', '&lt;#&gt;', 'You', 'from', '4', 'do', 'up', 'just', '.', 'if', 'go', 'when', 'know', 'this', 'like', 'we', 'all', 'out', 'got', 'was', 'come', 'now', '?', 'am', '...']\n"
     ]
    }
   ],
   "source": [
    "## Sorting in decreasing order (Word with highest frequency appears first)\n",
    "vocab = sorted(total_counts, key=total_counts.get, reverse=True)\n",
    "print(vocab[:60])"
   ]
  },
  {
   "cell_type": "code",
   "execution_count": 25,
   "metadata": {
    "collapsed": false
   },
   "outputs": [
    {
     "data": {
      "text/plain": [
       "(5572, 8672)"
      ]
     },
     "execution_count": 25,
     "metadata": {},
     "output_type": "execute_result"
    }
   ],
   "source": [
    "from sklearn.feature_extraction.text import TfidfVectorizer\n",
    "\n",
    "vectorizer = TfidfVectorizer()\n",
    "vectors = vectorizer.fit_transform(data['SMS'])\n",
    "vectors.shape"
   ]
  },
  {
   "cell_type": "code",
   "execution_count": 14,
   "metadata": {
    "collapsed": false
   },
   "outputs": [],
   "source": [
    "features = vectors"
   ]
  },
  {
   "cell_type": "markdown",
   "metadata": {},
   "source": [
    "# Training and Testing data"
   ]
  },
  {
   "cell_type": "code",
   "execution_count": 15,
   "metadata": {
    "collapsed": false
   },
   "outputs": [
    {
     "name": "stdout",
     "output_type": "stream",
     "text": [
      "(4736, 8672)\n",
      "(836, 8672)\n",
      "(4736,)\n",
      "(836,)\n"
     ]
    }
   ],
   "source": [
    "import sklearn\n",
    "from sklearn.cross_validation import train_test_split\n",
    "X_train, X_test, y_train, y_test = train_test_split(features, data['class'], test_size=0.15, random_state=111)\n",
    "print (X_train.shape)\n",
    "print (X_test.shape)\n",
    "print (y_train.shape)\n",
    "print (y_test.shape)"
   ]
  },
  {
   "cell_type": "markdown",
   "metadata": {},
   "source": [
    "# Split the skewed data into shuffled sets using stratified shuffle split in sklearn library\n"
   ]
  },
  {
   "cell_type": "code",
   "execution_count": 16,
   "metadata": {
    "collapsed": false
   },
   "outputs": [
    {
     "name": "stdout",
     "output_type": "stream",
     "text": [
      "10\n",
      "StratifiedShuffleSplit(labels=['ham' 'ham' 'spam' ..., 'ham' 'ham' 'ham'], n_iter=10, test_size=0.3, random_state=None)\n",
      "TRAIN: [2726 1616 1631 ..., 3691 2584 3036]\n",
      "TEST: [2671 4354  501 ...,  276 1296 1177]\n",
      "TRAIN: [4401 3372 5378 ..., 1732 4277 1416]\n",
      "TEST: [2995 2806 1564 ..., 2766 1549 3841]\n",
      "TRAIN: [3836   38 4273 ..., 4337  840 3300]\n",
      "TEST: [3855 2314  652 ..., 3871 1887 5223]\n",
      "TRAIN: [2950 4462 3360 ..., 4769 2388  705]\n",
      "TEST: [2037 3871 3776 ...,  424 4861 1441]\n",
      "TRAIN: [1318 1598 1639 ..., 5102 1377  162]\n",
      "TEST: [1954 1739 3268 ..., 3932  934 5144]\n",
      "TRAIN: [1283 2436 2193 ..., 5132 2870 2800]\n",
      "TEST: [2720 5195  770 ..., 2042 5455 3689]\n",
      "TRAIN: [2534 1798  443 ..., 2530 5118 1676]\n",
      "TEST: [4375 1837 4016 ..., 4930 3632  259]\n",
      "TRAIN: [2215 4315 3065 ..., 2908  167  510]\n",
      "TEST: [5473 1710 1289 ..., 4396 3539 2494]\n",
      "TRAIN: [2776 5540 5000 ..., 3965 2901 1718]\n",
      "TEST: [1321 2046 2783 ...,  611 2964 4165]\n",
      "TRAIN: [3303  340 5224 ..., 3673 2178 4596]\n",
      "TEST: [   4  951 4101 ..., 1962 1252 3158]\n"
     ]
    }
   ],
   "source": [
    "from sklearn.cross_validation import StratifiedShuffleSplit\n",
    "y=np.array(data['class'])\n",
    "sss= StratifiedShuffleSplit(y,10, test_size=0.3, train_size=None, random_state=None)\n",
    "print(len(sss))\n",
    "print(sss)\n",
    "for train_index, test_index in sss:\n",
    "    print(\"TRAIN:\", train_index)\n",
    "    print(\"TEST:\", test_index)\n",
    "    #X_train, X_test = X[train_index], X[test_index]\n",
    "    #y_train, y_test = y[train_index], y[test_index]"
   ]
  },
  {
   "cell_type": "markdown",
   "metadata": {},
   "source": [
    "# Using standard classifiers to classify the data into spam or ham.\n"
   ]
  },
  {
   "cell_type": "code",
   "execution_count": 47,
   "metadata": {
    "collapsed": true
   },
   "outputs": [],
   "source": [
    "#1.Logistic Regression\n",
    "from sklearn.linear_model import LogisticRegression\n",
    "#2.Support Vector Machine\n",
    "from sklearn.svm import SVC\n",
    "#3.Naive Bayes(Multinomial Naive Bayes)\n",
    "from sklearn.naive_bayes import MultinomialNB\n",
    "#4.Decision Tree\n",
    "from sklearn.tree import DecisionTreeClassifier\n",
    "#5.K-Nearest Neighbor\n",
    "from sklearn.neighbors import KNeighborsClassifier\n",
    "#6. Random Forest\n",
    "from sklearn.ensemble import RandomForestClassifier\n",
    "\n",
    "#metrics for accuracy of models\n",
    "from sklearn.metrics import accuracy_score\n",
    "from sklearn.metrics import f1_score\n",
    "from sklearn.metrics import confusion_matrix\n",
    "from sklearn.metrics import classification_report"
   ]
  },
  {
   "cell_type": "code",
   "execution_count": 48,
   "metadata": {
    "collapsed": true
   },
   "outputs": [],
   "source": [
    "svc = SVC(kernel='sigmoid', gamma=1.0)\n",
    "knc = KNeighborsClassifier(n_neighbors=49)\n",
    "mnb = MultinomialNB(alpha=0.2)\n",
    "dtc = DecisionTreeClassifier(min_samples_split=7, random_state=111)\n",
    "lrc = LogisticRegression(solver='liblinear', penalty='l1')\n",
    "rfc = RandomForestClassifier(n_estimators=31, random_state=111)"
   ]
  },
  {
   "cell_type": "markdown",
   "metadata": {},
   "source": [
    "# Showing CONFUSION MATRIX of models"
   ]
  },
  {
   "cell_type": "code",
   "execution_count": 49,
   "metadata": {
    "collapsed": false
   },
   "outputs": [
    {
     "name": "stdout",
     "output_type": "stream",
     "text": [
      "('LR', [array([[717,   8],\n",
      "       [ 18,  93]])])\n",
      "\n",
      "\n",
      "('SVC', [array([[724,   1],\n",
      "       [  8, 103]])])\n",
      "\n",
      "\n",
      "('RF', [array([[725,   0],\n",
      "       [ 11, 100]])])\n",
      "\n",
      "\n",
      "('KN', [array([[725,   0],\n",
      "       [ 32,  79]])])\n",
      "\n",
      "\n",
      "('DT', [array([[716,   9],\n",
      "       [ 18,  93]])])\n",
      "\n",
      "\n",
      "('NB', [array([[722,   3],\n",
      "       [  2, 109]])])\n",
      "\n",
      "\n"
     ]
    }
   ],
   "source": [
    "clfs = {'SVC' : svc,'KN' : knc, 'NB': mnb, 'DT': dtc, 'LR': lrc, 'RF': rfc}\n",
    "\n",
    "def train(clf, features, targets):    \n",
    "    clf.fit(features, targets)\n",
    "\n",
    "def predict(clf, features):\n",
    "    return (clf.predict(features))\n",
    "\n",
    "pred_scores_word_vectors = []\n",
    "pred_scores_word_vectors1 = []\n",
    "matrix= []\n",
    "report=[]\n",
    "\n",
    "#showing Accuracy Score and F1 score\n",
    "for k,v in clfs.items():\n",
    "    train(v, X_train, y_train)\n",
    "    pred = predict(v, X_test)\n",
    "    pred_scores_word_vectors.append((k, [accuracy_score(y_test , pred)]))\n",
    "    pred_scores_word_vectors1.append((k, [f1_score(y_test , pred)]))\n",
    " \n",
    "#showing confusion matrix\n",
    "for k,v in clfs.items():\n",
    "    train(v, X_train, y_train)\n",
    "    pred = predict(v, X_test)\n",
    "    matrix.append((k,[confusion_matrix(y_test,pred)]))  \n",
    "\n",
    "for i in range(len(matrix)):\n",
    "    print(matrix[i])\n",
    "    print(\"\\n\")"
   ]
  },
  {
   "cell_type": "markdown",
   "metadata": {},
   "source": [
    "# Showing CLASSIFICATION REPORT of Models"
   ]
  },
  {
   "cell_type": "code",
   "execution_count": 50,
   "metadata": {
    "collapsed": false
   },
   "outputs": [
    {
     "name": "stdout",
     "output_type": "stream",
     "text": [
      "('LR', ['             precision    recall  f1-score   support\\n\\n          0       0.98      0.99      0.98       725\\n          1       0.92      0.84      0.88       111\\n\\navg / total       0.97      0.97      0.97       836\\n'])\n",
      "\n",
      "\n",
      "('SVC', ['             precision    recall  f1-score   support\\n\\n          0       0.99      1.00      0.99       725\\n          1       0.99      0.93      0.96       111\\n\\navg / total       0.99      0.99      0.99       836\\n'])\n",
      "\n",
      "\n",
      "('RF', ['             precision    recall  f1-score   support\\n\\n          0       0.99      1.00      0.99       725\\n          1       1.00      0.90      0.95       111\\n\\navg / total       0.99      0.99      0.99       836\\n'])\n",
      "\n",
      "\n",
      "('KN', ['             precision    recall  f1-score   support\\n\\n          0       0.96      1.00      0.98       725\\n          1       1.00      0.71      0.83       111\\n\\navg / total       0.96      0.96      0.96       836\\n'])\n",
      "\n",
      "\n",
      "('DT', ['             precision    recall  f1-score   support\\n\\n          0       0.98      0.99      0.98       725\\n          1       0.91      0.84      0.87       111\\n\\navg / total       0.97      0.97      0.97       836\\n'])\n",
      "\n",
      "\n",
      "('NB', ['             precision    recall  f1-score   support\\n\\n          0       1.00      1.00      1.00       725\\n          1       0.97      0.98      0.98       111\\n\\navg / total       0.99      0.99      0.99       836\\n'])\n",
      "\n",
      "\n"
     ]
    }
   ],
   "source": [
    "#Showing Classification Report\n",
    "for k,v in clfs.items():\n",
    "    train(v, X_train, y_train)\n",
    "    pred = predict(v, X_test)\n",
    "    report.append((k,[classification_report(y_test,pred)])) \n",
    "    \n",
    "for i in range(len(report)):\n",
    "    print(report[i])\n",
    "    print(\"\\n\")"
   ]
  },
  {
   "cell_type": "markdown",
   "metadata": {},
   "source": [
    "# Showing Accuracy Scores"
   ]
  },
  {
   "cell_type": "code",
   "execution_count": 77,
   "metadata": {
    "collapsed": false
   },
   "outputs": [
    {
     "data": {
      "text/html": [
       "<div>\n",
       "<table border=\"1\" class=\"dataframe\">\n",
       "  <thead>\n",
       "    <tr style=\"text-align: right;\">\n",
       "      <th></th>\n",
       "      <th>Accuracy Score</th>\n",
       "    </tr>\n",
       "  </thead>\n",
       "  <tbody>\n",
       "    <tr>\n",
       "      <th>LR</th>\n",
       "      <td>0.968900</td>\n",
       "    </tr>\n",
       "    <tr>\n",
       "      <th>RF</th>\n",
       "      <td>0.986842</td>\n",
       "    </tr>\n",
       "    <tr>\n",
       "      <th>DT</th>\n",
       "      <td>0.967703</td>\n",
       "    </tr>\n",
       "    <tr>\n",
       "      <th>SVC</th>\n",
       "      <td>0.989234</td>\n",
       "    </tr>\n",
       "    <tr>\n",
       "      <th>KN</th>\n",
       "      <td>0.961722</td>\n",
       "    </tr>\n",
       "    <tr>\n",
       "      <th>NB</th>\n",
       "      <td>0.994019</td>\n",
       "    </tr>\n",
       "  </tbody>\n",
       "</table>\n",
       "</div>"
      ],
      "text/plain": [
       "     Accuracy Score\n",
       "LR         0.968900\n",
       "RF         0.986842\n",
       "DT         0.967703\n",
       "SVC        0.989234\n",
       "KN         0.961722\n",
       "NB         0.994019"
      ]
     },
     "execution_count": 77,
     "metadata": {},
     "output_type": "execute_result"
    }
   ],
   "source": [
    "predictions = pd.DataFrame.from_items(pred_scores_word_vectors,orient='index', columns=['Accuracy Score'])\n",
    "predictions"
   ]
  },
  {
   "cell_type": "markdown",
   "metadata": {},
   "source": [
    "# Showing F1 Scores"
   ]
  },
  {
   "cell_type": "code",
   "execution_count": 78,
   "metadata": {
    "collapsed": false
   },
   "outputs": [
    {
     "data": {
      "text/html": [
       "<div>\n",
       "<table border=\"1\" class=\"dataframe\">\n",
       "  <thead>\n",
       "    <tr style=\"text-align: right;\">\n",
       "      <th></th>\n",
       "      <th>F1 Score</th>\n",
       "    </tr>\n",
       "  </thead>\n",
       "  <tbody>\n",
       "    <tr>\n",
       "      <th>LR</th>\n",
       "      <td>0.877358</td>\n",
       "    </tr>\n",
       "    <tr>\n",
       "      <th>RF</th>\n",
       "      <td>0.947867</td>\n",
       "    </tr>\n",
       "    <tr>\n",
       "      <th>DT</th>\n",
       "      <td>0.873239</td>\n",
       "    </tr>\n",
       "    <tr>\n",
       "      <th>SVC</th>\n",
       "      <td>0.958140</td>\n",
       "    </tr>\n",
       "    <tr>\n",
       "      <th>KN</th>\n",
       "      <td>0.831579</td>\n",
       "    </tr>\n",
       "    <tr>\n",
       "      <th>NB</th>\n",
       "      <td>0.977578</td>\n",
       "    </tr>\n",
       "  </tbody>\n",
       "</table>\n",
       "</div>"
      ],
      "text/plain": [
       "     F1 Score\n",
       "LR   0.877358\n",
       "RF   0.947867\n",
       "DT   0.873239\n",
       "SVC  0.958140\n",
       "KN   0.831579\n",
       "NB   0.977578"
      ]
     },
     "execution_count": 78,
     "metadata": {},
     "output_type": "execute_result"
    }
   ],
   "source": [
    "predictions1 = pd.DataFrame.from_items(pred_scores_word_vectors1,orient='index', columns=['F1 Score'])\n",
    "predictions1"
   ]
  },
  {
   "cell_type": "markdown",
   "metadata": {},
   "source": [
    "# Showing Models based on Accuracy"
   ]
  },
  {
   "cell_type": "code",
   "execution_count": 85,
   "metadata": {
    "collapsed": false
   },
   "outputs": [
    {
     "data": {
      "text/plain": [
       "<matplotlib.legend.Legend at 0x88ad47c50>"
      ]
     },
     "execution_count": 85,
     "metadata": {},
     "output_type": "execute_result"
    }
   ],
   "source": [
    "predictions.plot(kind='bar', ylim=(0.85,1.0), figsize=(10,5), align='center', colormap=\"Accent\")\n",
    "plt.xticks(np.arange(6), predictions.index)\n",
    "plt.ylabel('Accuracy Score')\n",
    "plt.title('Distribution by Classifier')\n",
    "plt.legend(bbox_to_anchor=(1.05, 1), loc=2, borderaxespad=0.)\n"
   ]
  },
  {
   "cell_type": "code",
   "execution_count": 86,
   "metadata": {
    "collapsed": false
   },
   "outputs": [
    {
     "data": {
      "image/png": "[encoded data removed]",
      "text/plain": [
       "<matplotlib.figure.Figure at 0x88ad47b38>"
      ]
     },
     "metadata": {},
     "output_type": "display_data"
    }
   ],
   "source": [
    "plt.show()"
   ]
  },
  {
   "cell_type": "markdown",
   "metadata": {},
   "source": [
    "# Showing models based on F1 scores"
   ]
  },
  {
   "cell_type": "code",
   "execution_count": 81,
   "metadata": {
    "collapsed": false
   },
   "outputs": [
    {
     "data": {
      "text/plain": [
       "<matplotlib.legend.Legend at 0x88ad522b0>"
      ]
     },
     "execution_count": 81,
     "metadata": {},
     "output_type": "execute_result"
    }
   ],
   "source": [
    "predictions1.plot(kind='bar', ylim=(0.85,1.0), figsize=(10,5), align='center', colormap=\"Accent\")\n",
    "plt.xticks(np.arange(6), predictions.index)\n",
    "plt.ylabel('F1 Score')\n",
    "plt.title('Distribution by Classifier')\n",
    "plt.legend(bbox_to_anchor=(1.05, 1), loc=2, borderaxespad=0.)"
   ]
  },
  {
   "cell_type": "code",
   "execution_count": 82,
   "metadata": {
    "collapsed": false
   },
   "outputs": [
    {
     "data": {
      "image/png": "[encoded data removed]",
      "text/plain": [
       "<matplotlib.figure.Figure at 0x888c39208>"
      ]
     },
     "metadata": {},
     "output_type": "display_data"
    }
   ],
   "source": [
    "plt.show()"
   ]
  },
  {
   "cell_type": "code",
   "execution_count": 52,
   "metadata": {
    "collapsed": true
   },
   "outputs": [],
   "source": [
    "#function to show if the message is spam or not\n",
    "def find(p):\n",
    "    if p == 1:\n",
    "        print (\"Message is SPAM\")\n",
    "    else:\n",
    "        print (\"Message is NOT Spam\")"
   ]
  },
  {
   "cell_type": "code",
   "execution_count": 53,
   "metadata": {
    "collapsed": false
   },
   "outputs": [
    {
     "name": "stdout",
     "output_type": "stream",
     "text": [
      "Message is NOT Spam\n"
     ]
    }
   ],
   "source": [
    "text = [\"spam and ham\"]\n",
    "integers = vectorizer.transform(text)\n",
    "p = mnb.predict(integers)[0]\n",
    "find(p)"
   ]
  },
  {
   "cell_type": "markdown",
   "metadata": {},
   "source": [
    "# Saving the BEST MODEL"
   ]
  },
  {
   "cell_type": "code",
   "execution_count": 56,
   "metadata": {
    "collapsed": false
   },
   "outputs": [
    {
     "name": "stdout",
     "output_type": "stream",
     "text": [
      "Best Model (Naive Bayes) Saved\n"
     ]
    },
    {
     "data": {
      "text/plain": [
       "MultinomialNB(alpha=0.2, class_prior=None, fit_prior=True)"
      ]
     },
     "execution_count": 56,
     "metadata": {},
     "output_type": "execute_result"
    }
   ],
   "source": [
    "from sklearn.externals import joblib\n",
    "joblib.dump(mnb, 'best.pkl')\n",
    "print (\"Best Model (Naive Bayes) Saved\")\n",
    "best = joblib.load('best.pkl')\n",
    "best"
   ]
  },
  {
   "cell_type": "markdown",
   "metadata": {},
   "source": [
    "# Testing data using the model"
   ]
  },
  {
   "cell_type": "code",
   "execution_count": 54,
   "metadata": {
    "collapsed": true
   },
   "outputs": [],
   "source": [
    "text1 = [\"Hope you enjoyed the content.\"]\n",
    "text2 = [\"Send your Details.\"]\n",
    "\n",
    "integers1 = vectorizer.transform(text1)\n",
    "integers2 = vectorizer.transform(text2)"
   ]
  },
  {
   "cell_type": "code",
   "execution_count": 57,
   "metadata": {
    "collapsed": false
   },
   "outputs": [
    {
     "name": "stdout",
     "output_type": "stream",
     "text": [
      "Message is NOT Spam\n",
      "Message is NOT Spam\n"
     ]
    }
   ],
   "source": [
    "p1 = best.predict(integers)[0]\n",
    "p2 = best.predict(integers)[0]\n",
    "\n",
    "find(p1)\n",
    "find(p2)"
   ]
  },
  {
   "cell_type": "code",
   "execution_count": null,
   "metadata": {
    "collapsed": true
   },
   "outputs": [],
   "source": []
  }
 ],
 "metadata": {
  "anaconda-cloud": {},
  "kernelspec": {
   "display_name": "Python [conda root]",
   "language": "python",
   "name": "conda-root-py"
  },
  "language_info": {
   "codemirror_mode": {
    "name": "ipython",
    "version": 3
   },
   "file_extension": ".py",
   "mimetype": "text/x-python",
   "name": "python",
   "nbconvert_exporter": "python",
   "pygments_lexer": "ipython3",
   "version": "3.5.2"
  }
 },
 "nbformat": 4,
 "nbformat_minor": 2
}
